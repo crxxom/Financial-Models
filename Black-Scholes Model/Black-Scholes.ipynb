{
 "cells": [
  {
   "cell_type": "markdown",
   "id": "8ecfb158-6a9d-466c-9322-79c6b27d7cd4",
   "metadata": {},
   "source": [
    "# Black-Scholes Option Pricing formula"
   ]
  },
  {
   "cell_type": "code",
   "execution_count": 4,
   "id": "74d19780-fa43-4c16-adbd-d170877b75c1",
   "metadata": {
    "tags": []
   },
   "outputs": [],
   "source": [
    "import numpy as np\n",
    "from scipy.stats import norm"
   ]
  },
  {
   "cell_type": "code",
   "execution_count": 7,
   "id": "1cb106e8-6710-42b9-b4ca-5f0740b2d695",
   "metadata": {
    "tags": []
   },
   "outputs": [],
   "source": [
    "def bs_optionpricing(S, K, sigma, r, T, delta, option_type=\"call\"):\n",
    "    \n",
    "    assert option_type in [\"call\", \"put\"], \"option_type only accepts 'call' or 'put' as argument\"\n",
    "    \n",
    "    d1 = (np.log(S/K) + (r-delta+(sigma**2)/2)*T)/(sigma*np.sqrt(T))\n",
    "    d2 = d1 - sigma*np.sqrt(T)\n",
    "    \n",
    "    if option_type == \"call\":\n",
    "        price = S*np.exp(-delta*T)*norm.cdf(d1,0,1) - K*np.exp(-r*T)*norm.cdf(d2,0,1)\n",
    "    elif option_type == \"put\":\n",
    "        price = K*np.exp(-r*T)*norm.cdf(-d2,0,1) - S*np.exp(-delta*T)*norm.cdf(-d1,0,1)\n",
    "    \n",
    "    return price"
   ]
  },
  {
   "cell_type": "code",
   "execution_count": 14,
   "id": "1830b1ad-4e8f-418f-bb61-1f384c448d63",
   "metadata": {
    "tags": []
   },
   "outputs": [
    {
     "name": "stdout",
     "output_type": "stream",
     "text": [
      "Call price:  3.3990781872368956\n",
      "Put price:  1.6070251195071048\n"
     ]
    }
   ],
   "source": [
    "S = 41\n",
    "K = 40\n",
    "sigma = 0.3\n",
    "r = 0.08\n",
    "T = 0.25\n",
    "delta = 0\n",
    "\n",
    "call_price = bs_optionpricing(S, K, sigma, r, T, delta, option_type=\"call\")\n",
    "put_price = bs_optionpricing(S, K, sigma, r, T, delta, option_type=\"put\")\n",
    "\n",
    "print(\"Call price: \", call_price)\n",
    "print(\"Put price: \", put_price)"
   ]
  },
  {
   "cell_type": "markdown",
   "id": "9c5db58b-62c5-4999-a98a-e12b12cfc77b",
   "metadata": {},
   "source": [
    "Do you know that we can use the price of a put through the price of otherwise identical call option with put call parity?"
   ]
  },
  {
   "cell_type": "code",
   "execution_count": 16,
   "id": "2d719eee-5f4b-4ddf-9100-a9eac7159ae6",
   "metadata": {
    "tags": []
   },
   "outputs": [],
   "source": [
    "def put_price_conversion(call_price, K, F, r, T): # F is the forward price of the underlying asset\n",
    "    return call_price + K*np.exp(-r*T) - F # by put call parity, P = C + PV(K-F)"
   ]
  },
  {
   "cell_type": "code",
   "execution_count": 17,
   "id": "f1ca2124-743d-42a7-b003-d4a88e38345b",
   "metadata": {
    "tags": []
   },
   "outputs": [
    {
     "data": {
      "text/plain": [
       "1.6070251195071066"
      ]
     },
     "execution_count": 17,
     "metadata": {},
     "output_type": "execute_result"
    }
   ],
   "source": [
    "put_price_conversion(call_price, K, S, r, T)"
   ]
  },
  {
   "cell_type": "markdown",
   "id": "981b4b5e-4419-4b53-b507-d8764e7c45ea",
   "metadata": {},
   "source": [
    "## Option Greeks with Black-Scholes"
   ]
  },
  {
   "cell_type": "markdown",
   "id": "16d33d9a-bd8c-437e-bee2-7b19986187b7",
   "metadata": {},
   "source": [
    "### Delta"
   ]
  },
  {
   "cell_type": "code",
   "execution_count": null,
   "id": "decb7476-8e66-43ce-a0c7-7c4dd336f177",
   "metadata": {},
   "outputs": [],
   "source": []
  }
 ],
 "metadata": {
  "kernelspec": {
   "display_name": "Python 3 (ipykernel)",
   "language": "python",
   "name": "python3"
  },
  "language_info": {
   "codemirror_mode": {
    "name": "ipython",
    "version": 3
   },
   "file_extension": ".py",
   "mimetype": "text/x-python",
   "name": "python",
   "nbconvert_exporter": "python",
   "pygments_lexer": "ipython3",
   "version": "3.9.13"
  }
 },
 "nbformat": 4,
 "nbformat_minor": 5
}
