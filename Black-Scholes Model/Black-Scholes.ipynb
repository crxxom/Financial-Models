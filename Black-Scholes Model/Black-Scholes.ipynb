{
 "cells": [
  {
   "cell_type": "markdown",
   "id": "8ecfb158-6a9d-466c-9322-79c6b27d7cd4",
   "metadata": {},
   "source": [
    "# Black-Scholes Option Pricing formula"
   ]
  },
  {
   "cell_type": "code",
   "execution_count": 4,
   "id": "74d19780-fa43-4c16-adbd-d170877b75c1",
   "metadata": {
    "tags": []
   },
   "outputs": [],
   "source": [
    "import numpy as np\n",
    "from scipy.stats import norm"
   ]
  },
  {
   "cell_type": "code",
   "execution_count": 48,
   "id": "1cb106e8-6710-42b9-b4ca-5f0740b2d695",
   "metadata": {
    "tags": []
   },
   "outputs": [],
   "source": [
    "def bs_optionpricing(S, K, sigma, r, T, delta, option_type=\"call\"):\n",
    "    \n",
    "    assert option_type in [\"call\", \"put\"], \"option_type only accepts 'call' or 'put' as argument\"\n",
    "    \n",
    "    d1 = (np.log(S/K) + (r-delta+(sigma**2)/2)*T)/(sigma*np.sqrt(T))\n",
    "    d2 = d1 - sigma*np.sqrt(T)\n",
    "    \n",
    "    if option_type == \"call\":\n",
    "        price = S*np.exp(-delta*T)*norm.cdf(d1,0,1) - K*np.exp(-r*T)*norm.cdf(d2,0,1)\n",
    "        \n",
    "        print(\"To dynamically replicate payoff of the call at expiration,\")\n",
    "        print(\"Delta: \", np.exp(-delta*T)*norm.cdf(d1,0,1))\n",
    "        print(\"B:\", -K*np.exp(r*T)*norm.cdf(d2,0,1))\n",
    "        \n",
    "    elif option_type == \"put\":\n",
    "        price = K*np.exp(-r*T)*norm.cdf(-d2,0,1) - S*np.exp(-delta*T)*norm.cdf(-d1,0,1)\n",
    "        \n",
    "        print(\"To dynamically replicate payoff of the put at expiration,\")\n",
    "        print(\"Delta: \", -np.exp(-delta*T)*norm.cdf(d1,0,1))\n",
    "        print(\"B:\", K*np.exp(r*T)*norm.cdf(d2,0,1))\n",
    "\n",
    "    return price"
   ]
  },
  {
   "cell_type": "code",
   "execution_count": 49,
   "id": "1830b1ad-4e8f-418f-bb61-1f384c448d63",
   "metadata": {
    "tags": []
   },
   "outputs": [
    {
     "name": "stdout",
     "output_type": "stream",
     "text": [
      "To dynamically replicate payoff of the call at expiration,\n",
      "Delta:  0.6594895230130656\n",
      "B: -30.739050238164193\n",
      "To dynamically replicate payoff of the put at expiration,\n",
      "Delta:  -0.6594895230130656\n",
      "B: 30.739050238164193\n",
      "Call price:  3.8602636187776227\n",
      "Put price:  1.6108875784117451\n"
     ]
    }
   ],
   "source": [
    "S = 52\n",
    "K = 50\n",
    "sigma = 0.18\n",
    "r = 0.01\n",
    "T = 6/12\n",
    "delta = 0\n",
    "\n",
    "call_price = bs_optionpricing(S, K, sigma, r, T, delta, option_type=\"call\")\n",
    "put_price = bs_optionpricing(S, K, sigma, r, T, delta, option_type=\"put\")\n",
    "\n",
    "print(\"Call price: \", call_price)\n",
    "print(\"Put price: \", put_price)"
   ]
  },
  {
   "cell_type": "code",
   "execution_count": 51,
   "id": "bb753c9e-6335-4092-a22c-629a36012aad",
   "metadata": {
    "tags": []
   },
   "outputs": [
    {
     "name": "stdout",
     "output_type": "stream",
     "text": [
      "To dynamically replicate payoff of the call at expiration,\n",
      "Delta:  0.7149128101480642\n",
      "B: -33.71733789666272\n"
     ]
    },
    {
     "data": {
      "text/plain": [
       "4.495692518335147"
      ]
     },
     "execution_count": 51,
     "metadata": {},
     "output_type": "execute_result"
    }
   ],
   "source": [
    "S = 53\n",
    "K = 50\n",
    "sigma = 0.18\n",
    "r = 0.01\n",
    "T = 25/52\n",
    "delta = 0\n",
    "\n",
    "call_price = bs_optionpricing(S, K, sigma, r, T, delta, option_type=\"call\")\n",
    "call_price"
   ]
  },
  {
   "cell_type": "markdown",
   "id": "9c5db58b-62c5-4999-a98a-e12b12cfc77b",
   "metadata": {},
   "source": [
    "Do you know that we can use the price of a put through the price of otherwise identical call option with put call parity?"
   ]
  },
  {
   "cell_type": "code",
   "execution_count": 16,
   "id": "2d719eee-5f4b-4ddf-9100-a9eac7159ae6",
   "metadata": {
    "tags": []
   },
   "outputs": [],
   "source": [
    "def put_price_conversion(call_price, K, F, r, T): # F is the forward price of the underlying asset\n",
    "    return call_price + K*np.exp(-r*T) - F # by put call parity, P = C + PV(K-F)"
   ]
  },
  {
   "cell_type": "code",
   "execution_count": 17,
   "id": "f1ca2124-743d-42a7-b003-d4a88e38345b",
   "metadata": {
    "tags": []
   },
   "outputs": [
    {
     "data": {
      "text/plain": [
       "1.6070251195071066"
      ]
     },
     "execution_count": 17,
     "metadata": {},
     "output_type": "execute_result"
    }
   ],
   "source": [
    "put_price_conversion(call_price, K, S, r, T)"
   ]
  },
  {
   "cell_type": "markdown",
   "id": "981b4b5e-4419-4b53-b507-d8764e7c45ea",
   "metadata": {},
   "source": [
    "## Option Greeks with Black-Scholes\n",
    "\n",
    "Reference: https://www.youtube.com/watch?v=558k7D2alxM"
   ]
  },
  {
   "cell_type": "markdown",
   "id": "16d33d9a-bd8c-437e-bee2-7b19986187b7",
   "metadata": {},
   "source": [
    "### Delta\n",
    "\n",
    "Delta measures the rate of change of the theoretical option value with respect to changes in the underlying asset's price.\n",
    "\n",
    "$\\Delta = \\frac{\\partial V}{\\partial S}$\n",
    "\n",
    "$\\Delta_{call} = \\Phi(d1)$\n",
    "\n",
    "$\\Delta_{put} = -\\Phi(-d1)$"
   ]
  },
  {
   "cell_type": "code",
   "execution_count": 18,
   "id": "decb7476-8e66-43ce-a0c7-7c4dd336f177",
   "metadata": {
    "tags": []
   },
   "outputs": [],
   "source": [
    "def delta_calc(S, K, sigma, r, T, delta, option_type=\"call\"):\n",
    "    \n",
    "    assert option_type in [\"call\", \"put\"], \"option_type only accepts 'call' or 'put' as argument\"\n",
    "\n",
    "    d1 = (np.log(S/K) + (r + sigma**2/2)*T)/(sigma*np.sqrt(T))\n",
    "    if option_type == \"call\":\n",
    "        delta_calc = norm.cdf(d1, 0, 1)\n",
    "    elif option_type == \"put\":\n",
    "        delta_calc = -norm.cdf(-d1, 0, 1)\n",
    "    \n",
    "    return delta_calc"
   ]
  },
  {
   "cell_type": "markdown",
   "id": "b471ac6f-1524-4963-8465-d3418fc37fc7",
   "metadata": {},
   "source": [
    "### Gamma\n",
    "\n",
    "Gamma measures the rate of change in the delta with respect to changes in the underlying price.\n",
    "\n",
    "$\\Gamma = \\frac{\\partial \\Delta}{\\partial S} = \\frac{\\partial^2 V}{\\partial S^2}$\n",
    "\n",
    "$\\Gamma = \\frac{\\phi(d1)}{S\\sigma\\sqrt{\\tau}}$"
   ]
  },
  {
   "cell_type": "code",
   "execution_count": 20,
   "id": "7100cad7-97ef-44dc-b24b-1b009db1c605",
   "metadata": {
    "tags": []
   },
   "outputs": [],
   "source": [
    "def gamma_calc(S, K, sigma, r, T, delta, option_type=\"call\"):\n",
    "    \n",
    "    assert option_type in [\"call\", \"put\"], \"option_type only accepts 'call' or 'put' as argument\"\n",
    "    \n",
    "    d1 = (np.log(S/K) + (r + sigma**2/2)*T)/(sigma*np.sqrt(T))\n",
    "    d2 = d1 - sigma*np.sqrt(T)\n",
    "    \n",
    "    gamma_calc = norm.pdf(d1, 0, 1)/(S*sigma*np.sqrt(T))\n",
    "    \n",
    "    return gamma_calc"
   ]
  },
  {
   "cell_type": "markdown",
   "id": "c93d521a-481e-4483-b759-f6267ef99b22",
   "metadata": {},
   "source": [
    "### Vega\n",
    "\n",
    "Vega measures sensitivity to volatility. Vega is the derivative of the option value with respect to the volatility of the underlying asset.\n",
    "\n",
    "$\\upsilon = \\frac{\\partial V}{\\partial \\sigma}$\n",
    "\n",
    "$\\upsilon = S\\phi(d1)\\sqrt{\\tau}$"
   ]
  },
  {
   "cell_type": "code",
   "execution_count": 19,
   "id": "c05b260a-5bdb-4c59-ba09-66029eca8b8b",
   "metadata": {
    "tags": []
   },
   "outputs": [],
   "source": [
    "def vega_calc(S, K, sigma, r, T, delta, option_type=\"call\"):\n",
    "\n",
    "    assert option_type in [\"call\", \"put\"], \"option_type only accepts 'call' or 'put' as argument\"\n",
    "\n",
    "    d1 = (np.log(S/K) + (r + sigma**2/2)*T)/(sigma*np.sqrt(T))\n",
    "    d2 = d1 - sigma*np.sqrt(T)\n",
    "    \n",
    "    vega_calc = S*norm.pdf(d1, 0, 1)*np.sqrt(T)\n",
    "    \n",
    "    return vega_calc*0.01"
   ]
  },
  {
   "cell_type": "markdown",
   "id": "a2eaa225-6c5f-4086-8774-765857236180",
   "metadata": {},
   "source": [
    "### Theta\n",
    "\n",
    "Theta measures the sensitivity of the value of the derivative to the passage of time - time decay.\n",
    "\n",
    "$\\Theta = -\\frac{\\partial V}{\\partial \\tau}$\n",
    "\n",
    "$\\Theta_{call} = -\\frac{S\\phi(d1)\\sigma}{2\\tau} - rK\\exp{(-rT)}\\Phi(d2)$\n",
    "\n",
    "$\\Theta_{put} = -\\frac{S\\phi(d1)\\sigma}{2\\tau} + rK\\exp{(-rT)}\\Phi(-d2)$"
   ]
  },
  {
   "cell_type": "code",
   "execution_count": 21,
   "id": "00c750ae-c4d2-4826-9c53-5d4f16f6ca93",
   "metadata": {
    "tags": []
   },
   "outputs": [],
   "source": [
    "def theta_calc(S, K, sigma, r, T, delta, option_type=\"call\"):\n",
    "    \n",
    "    assert option_type in [\"call\", \"put\"], \"option_type only accepts 'call' or 'put' as argument\"\n",
    "\n",
    "    d1 = (np.log(S/K) + (r + sigma**2/2)*T)/(sigma*np.sqrt(T))\n",
    "    d2 = d1 - sigma*np.sqrt(T)\n",
    "    \n",
    "    if option_type == \"call\":\n",
    "        theta_calc = -S*norm.pdf(d1, 0, 1)*sigma/(2*np.sqrt(T)) - r*K*np.exp(-r*T)*norm.cdf(d2, 0, 1)\n",
    "    elif option_type == \"put\":\n",
    "        theta_calc = -S*norm.pdf(d1, 0, 1)*sigma/(2*np.sqrt(T)) + r*K*np.exp(-r*T)*norm.cdf(-d2, 0, 1)\n",
    "        \n",
    "    return theta_calc/365, theta(type, S, K, T, r, sigma)"
   ]
  },
  {
   "cell_type": "markdown",
   "id": "dfd22362-04f0-4aa5-99c8-cc34ab631c1e",
   "metadata": {},
   "source": [
    "### Rho\n",
    "\n",
    "Rho measures the sensitivity to the interest rate.\n",
    "\n",
    "$\\rho = \\frac{\\partial V}{\\partial r}$\n",
    "\n",
    "$\\rho_{call} = K\\tau\\exp{(-rT)}\\Phi(d2)$\n",
    "\n",
    "$\\rho_{put} = -K\\tau\\exp{(-rT)}\\Phi(-d2)$"
   ]
  },
  {
   "cell_type": "code",
   "execution_count": 22,
   "id": "c893045f-eb32-4889-b300-d912171e169b",
   "metadata": {
    "tags": []
   },
   "outputs": [],
   "source": [
    "def rho_calc(S, K, sigma, r, T, delta, option_type=\"call\"):\n",
    "    \n",
    "    assert option_type in [\"call\", \"put\"], \"option_type only accepts 'call' or 'put' as argument\"\n",
    "    \n",
    "    d1 = (np.log(S/K) + (r + sigma**2/2)*T)/(sigma*np.sqrt(T))\n",
    "    d2 = d1 - sigma*np.sqrt(T)\n",
    "    \n",
    "    if type == \"call\":\n",
    "        rho_calc = K*T*np.exp(-r*T)*norm.cdf(d2, 0, 1)\n",
    "    elif type == \"put\":\n",
    "        rho_calc = -K*T*np.exp(-r*T)*norm.cdf(-d2, 0, 1)\n",
    "    \n",
    "    return rho_calc*0.01, rho(type, S, K, T, r, sigma)"
   ]
  },
  {
   "cell_type": "markdown",
   "id": "714611c5-b2f0-4a9c-81d5-1fa841f398a8",
   "metadata": {},
   "source": [
    "# Practical\n",
    "\n",
    "> Noted that py_vollib black scholes model does not take into account the continuously compounded dividend yield "
   ]
  },
  {
   "cell_type": "code",
   "execution_count": null,
   "id": "71bf15f0-7959-4a9f-976e-e02050d16ba9",
   "metadata": {
    "tags": []
   },
   "outputs": [],
   "source": [
    "!pip install py_vollib\n",
    "from py_vollib.black_scholes import black_scholes as bs\n",
    "from py_vollib.black_scholes.greeks.analytical import delta, gamma, vega, theta, rho"
   ]
  },
  {
   "cell_type": "code",
   "execution_count": 24,
   "id": "290c3760-e18e-44a9-8eb0-463a650ec759",
   "metadata": {
    "tags": []
   },
   "outputs": [
    {
     "data": {
      "text/plain": [
       "3.3990781872368983"
      ]
     },
     "execution_count": 24,
     "metadata": {},
     "output_type": "execute_result"
    }
   ],
   "source": [
    "bs('c', S, K, T, r, sigma)"
   ]
  },
  {
   "cell_type": "code",
   "execution_count": 29,
   "id": "e7e29765-b7cb-4dbb-84a2-f42a4e96da65",
   "metadata": {
    "tags": []
   },
   "outputs": [
    {
     "data": {
      "text/plain": [
       "0.6454074505086169"
      ]
     },
     "execution_count": 29,
     "metadata": {},
     "output_type": "execute_result"
    }
   ],
   "source": [
    "delta('c', S, K, T, r, sigma)"
   ]
  },
  {
   "cell_type": "code",
   "execution_count": 30,
   "id": "7e5f1559-f7f0-4588-8f40-cbe524822f01",
   "metadata": {
    "tags": []
   },
   "outputs": [
    {
     "data": {
      "text/plain": [
       "0.060510598576190594"
      ]
     },
     "execution_count": 30,
     "metadata": {},
     "output_type": "execute_result"
    }
   ],
   "source": [
    "gamma('c', S, K, T, r, sigma)"
   ]
  },
  {
   "cell_type": "code",
   "execution_count": 31,
   "id": "8db04b66-3dc1-4949-a5ed-c9569508c857",
   "metadata": {
    "tags": []
   },
   "outputs": [
    {
     "data": {
      "text/plain": [
       "0.07628873715493228"
      ]
     },
     "execution_count": 31,
     "metadata": {},
     "output_type": "execute_result"
    }
   ],
   "source": [
    "vega('c', S, K, T, r, sigma)"
   ]
  },
  {
   "cell_type": "code",
   "execution_count": 32,
   "id": "008414ac-70e3-400a-851c-60f7c81b19f8",
   "metadata": {
    "tags": []
   },
   "outputs": [
    {
     "data": {
      "text/plain": [
       "-0.017595436745165064"
      ]
     },
     "execution_count": 32,
     "metadata": {},
     "output_type": "execute_result"
    }
   ],
   "source": [
    "theta('c', S, K, T, r, sigma)"
   ]
  },
  {
   "cell_type": "code",
   "execution_count": 33,
   "id": "5c97dc00-f047-40ff-8120-6cf1fa498b06",
   "metadata": {
    "tags": []
   },
   "outputs": [
    {
     "data": {
      "text/plain": [
       "0.05765656820904099"
      ]
     },
     "execution_count": 33,
     "metadata": {},
     "output_type": "execute_result"
    }
   ],
   "source": [
    "rho('c', S, K, T, r, sigma)"
   ]
  }
 ],
 "metadata": {
  "kernelspec": {
   "display_name": "Python 3 (ipykernel)",
   "language": "python",
   "name": "python3"
  },
  "language_info": {
   "codemirror_mode": {
    "name": "ipython",
    "version": 3
   },
   "file_extension": ".py",
   "mimetype": "text/x-python",
   "name": "python",
   "nbconvert_exporter": "python",
   "pygments_lexer": "ipython3",
   "version": "3.9.13"
  }
 },
 "nbformat": 4,
 "nbformat_minor": 5
}
